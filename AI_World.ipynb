{
 "cells": [
  {
   "cell_type": "code",
   "execution_count": 1,
   "metadata": {},
   "outputs": [
    {
     "name": "stdout",
     "output_type": "stream",
     "text": [
      "Welcome to AI world\n"
     ]
    }
   ],
   "source": [
    "#welcome to AL/ML\n",
    "\n",
    "import pandas as pd\n",
    "print('Welcome to AI world')"
   ]
  }
 ],
 "metadata": {
  "kernelspec": {
   "display_name": "base",
   "language": "python",
   "name": "python3"
  },
  "language_info": {
   "codemirror_mode": {
    "name": "ipython",
    "version": 3
   },
   "file_extension": ".py",
   "mimetype": "text/x-python",
   "name": "python",
   "nbconvert_exporter": "python",
   "pygments_lexer": "ipython3",
   "version": "3.9.13"
  },
  "orig_nbformat": 4,
  "vscode": {
   "interpreter": {
    "hash": "6fd81fe4589e0f135fad187605c3f5487f779da0df8633f855459d1535c1c02b"
   }
  }
 },
 "nbformat": 4,
 "nbformat_minor": 2
}
